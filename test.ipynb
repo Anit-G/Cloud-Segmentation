{
 "cells": [
  {
   "cell_type": "code",
   "execution_count": 1,
   "metadata": {},
   "outputs": [],
   "source": [
    "import numpy as np\n",
    "import matplotlib.pyplot as plt\n",
    "import os\n",
    "import tensorflow as tf\n",
    "\n",
    "from tensorflow.keras.preprocessing import image\n",
    "from tensorflow.keras.layers import Dense,Input, Conv2D, MaxPooling2D, UpSampling2D\n",
    "from tensorflow.keras.models import Model\n",
    "from tensorflow.keras.callbacks import ModelCheckpoint, CSVLogger\n",
    "from sklearn.model_selection import train_test_split\n",
    "from Augmentation import dataset\n",
    "\n",
    "data_dir='./dataset/'"
   ]
  },
  {
   "cell_type": "code",
   "execution_count": 2,
   "metadata": {},
   "outputs": [
    {
     "name": "stdout",
     "output_type": "stream",
     "text": [
      "Model: \"model\"\n",
      "_________________________________________________________________\n",
      "Layer (type)                 Output Shape              Param #   \n",
      "=================================================================\n",
      "input_1 (InputLayer)         [(None, 600, 600, 3)]     0         \n",
      "_________________________________________________________________\n",
      "conv2d (Conv2D)              (None, 600, 600, 16)      448       \n",
      "_________________________________________________________________\n",
      "max_pooling2d (MaxPooling2D) (None, 300, 300, 16)      0         \n",
      "_________________________________________________________________\n",
      "conv2d_1 (Conv2D)            (None, 300, 300, 8)       1160      \n",
      "_________________________________________________________________\n",
      "max_pooling2d_1 (MaxPooling2 (None, 150, 150, 8)       0         \n",
      "_________________________________________________________________\n",
      "conv2d_2 (Conv2D)            (None, 150, 150, 8)       584       \n",
      "_________________________________________________________________\n",
      "max_pooling2d_2 (MaxPooling2 (None, 75, 75, 8)         0         \n",
      "_________________________________________________________________\n",
      "conv2d_3 (Conv2D)            (None, 75, 75, 8)         584       \n",
      "_________________________________________________________________\n",
      "up_sampling2d (UpSampling2D) (None, 150, 150, 8)       0         \n",
      "_________________________________________________________________\n",
      "conv2d_4 (Conv2D)            (None, 150, 150, 8)       584       \n",
      "_________________________________________________________________\n",
      "up_sampling2d_1 (UpSampling2 (None, 300, 300, 8)       0         \n",
      "_________________________________________________________________\n",
      "conv2d_5 (Conv2D)            (None, 300, 300, 16)      1168      \n",
      "_________________________________________________________________\n",
      "up_sampling2d_2 (UpSampling2 (None, 600, 600, 16)      0         \n",
      "_________________________________________________________________\n",
      "conv2d_6 (Conv2D)            (None, 600, 600, 1)       401       \n",
      "=================================================================\n",
      "Total params: 4,929\n",
      "Trainable params: 4,929\n",
      "Non-trainable params: 0\n",
      "_________________________________________________________________\n"
     ]
    }
   ],
   "source": [
    "# Training the deep learning model\n",
    "\n",
    "input_img = Input(shape=(600,600,3))\n",
    "\n",
    "x = Conv2D(16, 3, 1, activation='relu', padding='same')(input_img) #nb_filter, nb_row, nb_col\n",
    "x = MaxPooling2D((2, 2), padding='same')(x)\n",
    "x = Conv2D(8, 3, 1, activation='relu', padding='same')(x)\n",
    "x = MaxPooling2D((2, 2), padding='same')(x)\n",
    "x = Conv2D(8, 3, 1, activation='relu', padding='same')(x)\n",
    "encoded = MaxPooling2D((2, 2), padding='same')(x)\n",
    "\n",
    "\n",
    "x = Conv2D(8, 3, 1, activation='relu', padding='same')(encoded)\n",
    "x = UpSampling2D((2,2))(x)\n",
    "x = Conv2D(8, 3, 1, activation='relu', padding='same')(x)\n",
    "x = UpSampling2D((2, 2))(x)\n",
    "x = Conv2D(16, 3, 1, activation='relu', padding='same')(x)\n",
    "x = UpSampling2D((2, 2))(x)\n",
    "\n",
    "decoded = Conv2D(1, 5, 1, activation='sigmoid', padding='same')(x)\n",
    "\n",
    "autoencoder = Model(input_img, decoded)\n",
    "autoencoder.compile(optimizer='RMSprop', loss='mean_squared_error')\n",
    "autoencoder.summary()"
   ]
  },
  {
   "cell_type": "code",
   "execution_count": 3,
   "metadata": {},
   "outputs": [
    {
     "name": "stderr",
     "output_type": "stream",
     "text": [
      "C:\\Users\\kunal.LAPTOP-7LV8BFT8\\Anaconda3\\lib\\site-packages\\keras_preprocessing\\image\\utils.py:107: UserWarning: grayscale is deprecated. Please use color_mode = \"grayscale\"\n",
      "  warnings.warn('grayscale is deprecated. Please use '\n"
     ]
    }
   ],
   "source": [
    "# Reading the files\n",
    "# Image data generators setup\n",
    "train_datagen = image.ImageDataGenerator()\n",
    "im_train,im_test,m_train,m_test = dataset()\n",
    "train_gen = train_datagen.flow(im_train,m_train,batch_size=32)"
   ]
  },
  {
   "cell_type": "code",
   "execution_count": 4,
   "metadata": {},
   "outputs": [
    {
     "name": "stdout",
     "output_type": "stream",
     "text": [
      "Train for 29 steps, validate on 100 samples\n",
      "Epoch 1/20\n",
      "29/29 [==============================] - 147s 5s/step - loss: 0.2117 - val_loss: 0.1455\n",
      "Epoch 2/20\n",
      "29/29 [==============================] - 123s 4s/step - loss: 0.1381 - val_loss: 0.1556\n",
      "Epoch 3/20\n",
      "29/29 [==============================] - 96s 3s/step - loss: 0.1267 - val_loss: 0.1224\n",
      "Epoch 4/20\n",
      "29/29 [==============================] - 89s 3s/step - loss: 0.1200 - val_loss: 0.1171\n",
      "Epoch 5/20\n",
      "29/29 [==============================] - 92s 3s/step - loss: 0.1144 - val_loss: 0.1170\n",
      "Epoch 6/20\n",
      "29/29 [==============================] - 96s 3s/step - loss: 0.1141 - val_loss: 0.1110\n",
      "Epoch 7/20\n",
      "29/29 [==============================] - 101s 3s/step - loss: 0.1082 - val_loss: 0.1125\n",
      "Epoch 8/20\n",
      "29/29 [==============================] - 89s 3s/step - loss: 0.1062 - val_loss: 0.1112\n",
      "Epoch 9/20\n",
      "29/29 [==============================] - 89s 3s/step - loss: 0.1064 - val_loss: 0.1060\n",
      "Epoch 10/20\n",
      "29/29 [==============================] - 81s 3s/step - loss: 0.1051 - val_loss: 0.1009\n",
      "Epoch 11/20\n",
      "29/29 [==============================] - 80s 3s/step - loss: 0.1046 - val_loss: 0.1080\n",
      "Epoch 12/20\n",
      "29/29 [==============================] - 84s 3s/step - loss: 0.1002 - val_loss: 0.0949\n",
      "Epoch 13/20\n",
      "29/29 [==============================] - 81s 3s/step - loss: 0.1009 - val_loss: 0.0936\n",
      "Epoch 14/20\n",
      "29/29 [==============================] - 79s 3s/step - loss: 0.0972 - val_loss: 0.0931\n",
      "Epoch 15/20\n",
      "29/29 [==============================] - 80s 3s/step - loss: 0.0977 - val_loss: 0.0969\n",
      "Epoch 16/20\n",
      "29/29 [==============================] - 83s 3s/step - loss: 0.0995 - val_loss: 0.1005\n",
      "Epoch 17/20\n",
      "29/29 [==============================] - 79s 3s/step - loss: 0.0957 - val_loss: 0.1043\n",
      "Epoch 18/20\n",
      "29/29 [==============================] - 78s 3s/step - loss: 0.0979 - val_loss: 0.1099\n",
      "Epoch 19/20\n",
      "29/29 [==============================] - 74s 3s/step - loss: 0.0956 - val_loss: 0.0981\n",
      "Epoch 20/20\n",
      "29/29 [==============================] - 75s 3s/step - loss: 0.0973 - val_loss: 0.0948\n"
     ]
    }
   ],
   "source": [
    "history = autoencoder.fit(train_gen,epochs=20,validation_data=(im_test,m_test))"
   ]
  },
  {
   "cell_type": "code",
   "execution_count": 5,
   "metadata": {},
   "outputs": [
    {
     "data": {
      "text/plain": [
       "[<matplotlib.lines.Line2D at 0x1b46f20bac8>]"
      ]
     },
     "execution_count": 5,
     "metadata": {},
     "output_type": "execute_result"
    },
    {
     "data": {
      "image/png": "[encoded data removed]",
      "text/plain": [
       "<Figure size 720x360 with 1 Axes>"
      ]
     },
     "metadata": {
      "needs_background": "light"
     },
     "output_type": "display_data"
    }
   ],
   "source": [
    "plt.figure(figsize=(10,5))\n",
    "plt.plot(history.history['loss'])\n",
    "plt.plot(history.history['val_loss'])"
   ]
  },
  {
   "cell_type": "code",
   "execution_count": 6,
   "metadata": {},
   "outputs": [],
   "source": [
    "autoencoder.save('model.h5')"
   ]
  },
  {
   "cell_type": "code",
   "execution_count": 7,
   "metadata": {},
   "outputs": [],
   "source": [
    "test_gen = train_datagen.flow(im_test[:2])\n",
    "encoded_img = autoencoder.predict(test_gen)"
   ]
  },
  {
   "cell_type": "code",
   "execution_count": null,
   "metadata": {},
   "outputs": [],
   "source": []
  }
 ],
 "metadata": {
  "interpreter": {
   "hash": "912bd4a8cb7e87422e6632415b71d4c6e9378d105a96652678ddd495798e2af4"
  },
  "kernelspec": {
   "display_name": "Python 3.7.4 64-bit ('base': conda)",
   "language": "python",
   "name": "python3"
  },
  "language_info": {
   "codemirror_mode": {
    "name": "ipython",
    "version": 3
   },
   "file_extension": ".py",
   "mimetype": "text/x-python",
   "name": "python",
   "nbconvert_exporter": "python",
   "pygments_lexer": "ipython3",
   "version": "3.7.4"
  },
  "orig_nbformat": 4
 },
 "nbformat": 4,
 "nbformat_minor": 2
}
